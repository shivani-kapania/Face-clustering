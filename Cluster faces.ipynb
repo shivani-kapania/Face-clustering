{
 "cells": [
  {
   "cell_type": "code",
   "execution_count": 1,
   "metadata": {},
   "outputs": [],
   "source": [
    "# import the necessary packages\n",
    "from sklearn.cluster import DBSCAN\n",
    "from utils import build_montage\n",
    "import numpy as np\n",
    "import argparse\n",
    "import pickle\n",
    "import cv2"
   ]
  },
  {
   "cell_type": "code",
   "execution_count": 2,
   "metadata": {},
   "outputs": [],
   "source": [
    "data = pickle.loads(open('encodings.pickle', \"rb\").read())\n",
    "data = np.array(data)\n",
    "encodings = [d[\"encoding\"] for d in data]"
   ]
  },
  {
   "cell_type": "code",
   "execution_count": 3,
   "metadata": {},
   "outputs": [
    {
     "data": {
      "text/plain": [
       "DBSCAN(algorithm='auto', eps=0.5, leaf_size=30, metric='euclidean',\n",
       "    metric_params=None, min_samples=5, n_jobs=-1, p=None)"
      ]
     },
     "execution_count": 3,
     "metadata": {},
     "output_type": "execute_result"
    }
   ],
   "source": [
    "clt = DBSCAN(metric=\"euclidean\", n_jobs=-1)\n",
    "clt.fit(encodings)"
   ]
  },
  {
   "cell_type": "code",
   "execution_count": 4,
   "metadata": {},
   "outputs": [
    {
     "name": "stdout",
     "output_type": "stream",
     "text": [
      "# unique faces: 4\n"
     ]
    }
   ],
   "source": [
    "# determine the total number of unique faces found in the dataset\n",
    "labelIDs = np.unique(clt.labels_)\n",
    "numUniqueFaces = len(np.where(labelIDs > -1)[0])\n",
    "print(\"# unique faces: {}\".format(numUniqueFaces))"
   ]
  },
  {
   "cell_type": "code",
   "execution_count": 5,
   "metadata": {},
   "outputs": [
    {
     "name": "stdout",
     "output_type": "stream",
     "text": [
      "[INFO] faces for face ID: -1\n",
      "[INFO] faces for face ID: 0\n",
      "[INFO] faces for face ID: 1\n",
      "[INFO] faces for face ID: 2\n",
      "[INFO] faces for face ID: 3\n"
     ]
    }
   ],
   "source": [
    "# loop over the unique face integers\n",
    "for labelID in labelIDs:\n",
    "    # find all indexes into the `data` array that belong to the\n",
    "    # current label ID, then randomly sample a maximum of 25 indexes\n",
    "    # from the set\n",
    "    print(\"[INFO] faces for face ID: {}\".format(labelID))\n",
    "    idxs = np.where(clt.labels_ == labelID)[0]\n",
    "    idxs = np.random.choice(idxs, size=min(25, len(idxs)), replace=False)\n",
    " \n",
    "    # initialize the list of faces to include in the montage\n",
    "    faces = []\n",
    "    \n",
    "    # loop over the sampled indexes\n",
    "    for i in idxs:\n",
    "        # load the input image and extract the face ROI\n",
    "        image = cv2.imread(data[i][\"imagePath\"])\n",
    "        (top, right, bottom, left) = data[i][\"loc\"]\n",
    "        face = image[top:bottom, left:right]\n",
    " \n",
    "        # force resize the face ROI to 96x96 and then add it to the\n",
    "        # faces montage list\n",
    "        face = cv2.resize(face, (96, 96))\n",
    "        faces.append(face)\n",
    "        \n",
    "    # create a montage using 96x96 \"tiles\" with 5 rows and 5 columns\n",
    "    montage = build_montage(faces, (96, 96), (5, 5))[0]\n",
    "    \n",
    "    # show the output montage\n",
    "    title = \"Face ID #{}\".format(labelID)\n",
    "    title = \"Unknown Faces\" if labelID == -1 else title\n",
    "    cv2.imshow(title, montage)\n",
    "    cv2.waitKey(0)"
   ]
  },
  {
   "cell_type": "code",
   "execution_count": null,
   "metadata": {},
   "outputs": [],
   "source": []
  }
 ],
 "metadata": {
  "kernelspec": {
   "display_name": "Python 3",
   "language": "python",
   "name": "python3"
  },
  "language_info": {
   "codemirror_mode": {
    "name": "ipython",
    "version": 3
   },
   "file_extension": ".py",
   "mimetype": "text/x-python",
   "name": "python",
   "nbconvert_exporter": "python",
   "pygments_lexer": "ipython3",
   "version": "3.7.2"
  }
 },
 "nbformat": 4,
 "nbformat_minor": 2
}
